{
 "cells": [
  {
   "cell_type": "code",
   "execution_count": 1,
   "metadata": {},
   "outputs": [],
   "source": [
    "%matplotlib notebook\n",
    "import numpy as np\n",
    "import matplotlib\n",
    "import matplotlib.pyplot as plt\n",
    "import matplotlib.path as mplPath\n",
    "import scipy\n",
    "from PIL import Image"
   ]
  },
  {
   "cell_type": "code",
   "execution_count": 2,
   "metadata": {},
   "outputs": [],
   "source": [
    "def maskImage(img, output_name):\n",
    "    draw_mask(img)\n",
    "    return mask_"
   ]
  },
  {
   "cell_type": "code",
   "execution_count": 23,
   "metadata": {},
   "outputs": [],
   "source": [
    "class drawMask(object):\n",
    "\n",
    "    def __init__(self, img):\n",
    "        self.img = img\n",
    "        self.fig = plt.gcf()\n",
    "        self.ax = plt.gca()\n",
    "        self.previous_point = None\n",
    "        self.start_point = None\n",
    "        self.end_point = None\n",
    "        self.count = 0\n",
    "        self.motion_event = self.fig.canvas.mpl_connect('motion_notify_event', self.motion_notify_event)\n",
    "        self.button_event = self.fig.canvas.mpl_connect('button_press_event', self.button_press_event)\n",
    "        plt.show(block=False)\n",
    "\n",
    "    def button_press_event(self, event):\n",
    "        if event.inaxes:\n",
    "            x, y = event.xdata, event.ydata\n",
    "            if event.button == 1:\n",
    "                if self.start_point == None:\n",
    "                    self.start_point = [x, y]\n",
    "                    self.previous_point = self.start_point\n",
    "                    self.x_point = [x]\n",
    "                    self.y_point = [y]\n",
    "                    self.line = plt.Line2D([x, x], [y, y], marker='o')\n",
    "                    self.ax.add_line(self.line)\n",
    "                    \n",
    "                else:\n",
    "                    self.previous_point = [x, y]\n",
    "                    self.x_point.append(x)\n",
    "                    self.y_point.append(y)\n",
    "                    self.line = plt.Line2D([self.previous_point[0], x], [self.previous_point[1], y], marker='o')\n",
    "                    event.inaxes.add_line(self.line)\n",
    "                \n",
    "                fig.canvas.update()\n",
    "                self.fig.canvas.flush_events(); plt.show(block=False)\n",
    "            elif (event.button == 3):\n",
    "                self.line.set_data([self.previous_point[0], self.start_point[0]],\n",
    "                                   [self.previous_point[1], self.start_point[1]])\n",
    "                \n",
    "                fig.canvas.update()\n",
    "                self.fig.canvas.flush_events(); plt.show(block=False)\n",
    "                self.line = None\n",
    "                plt.close(self.fig)\n",
    "                \n",
    "\n",
    "    def motion_notify_event(self, event):\n",
    "            \n",
    "        if event.inaxes:\n",
    "            x, y = event.xdata, event.ydata\n",
    "            if (event.button == None) and self.start_point != None:\n",
    "                self.line.set_data([self.previous_point[0], x],\n",
    "                                   [self.previous_point[1], y])\n",
    "                \n",
    "                fig.canvas.update()\n",
    "                self.fig.canvas.flush_events(); plt.show(block=False)\n",
    "                \n",
    "    def draw_mask(self):\n",
    "        img_h = self.img.shape[0]\n",
    "        img_w = self.img.shape[1]\n",
    "        mesh_x, mesh_y = np.meshgrid(np.arange(img_w), np.arange(img_h))\n",
    "        point = np.zeros((mesh_x.size, 2))\n",
    "        point[:, 0] = mesh_x.flatten()\n",
    "        point[:, 1] = mesh_y.flatten()\n",
    "\n",
    "        poly_point = np.zeros((len(self.x_point), 2))\n",
    "\n",
    "        poly_point[:, 0] = np.array(self.x_point)\n",
    "        poly_point[:, 1] = np.array(self.y_point)\n",
    "        poly_path = mplPath.Path(poly_point)\n",
    "        poly_mask = poly_path.contains_points(point).reshape(img_h, img_w)\n",
    "        return poly_mask\n",
    "\n",
    "    def get_bbox(self, mask):\n",
    "        coor = np.argwhere(mask)\n",
    "        h_min = np.min(coor[:, 0])\n",
    "        h_max = np.max(coor[:, 0])\n",
    "        w_min = np.min(coor[:, 1])\n",
    "        w_max = np.max(coor[:, 1])\n",
    "\n",
    "        return [w_min, h_min, w_max, h_max]\n",
    "\n",
    "def draw_mask(img):\n",
    "    plt.imshow(img)\n",
    "    draw = drawMask(img)\n",
    "    plt.show()\n",
    "    return draw"
   ]
  },
  {
   "cell_type": "markdown",
   "metadata": {},
   "source": [
    "## usage:\n",
    "1. move the mouse to the right place and then right click to add a point\n",
    "1. after finishing the last point, left click to connect to the first point, click the middle button (wheel) to finish\n",
    "1. it is OK even if step 2 is not successful. The last point will be connected to the first point automatically when the mask is created. "
   ]
  },
  {
   "cell_type": "code",
   "execution_count": 28,
   "metadata": {
    "scrolled": false
   },
   "outputs": [
    {
     "data": {
      "text/plain": [
       "<IPython.core.display.Javascript object>"
      ]
     },
     "metadata": {},
     "output_type": "display_data"
    },
    {
     "data": {
      "text/html": [
       "<img width=\"639.8550746746861\">"
      ],
      "text/plain": [
       "<IPython.core.display.HTML object>"
      ]
     },
     "metadata": {},
     "output_type": "display_data"
    }
   ],
   "source": [
    "path = \"1.jpg\"\n",
    "image_file = path\n",
    "\n",
    "image_file = image_file\n",
    "file_name = image_file.split('/')[-1].split('.')[0]\n",
    "img = Image.open(image_file).convert('RGB')\n",
    "img = np.array(img)\n",
    "output_name = file_name\n",
    "draw = draw_mask(img)\n"
   ]
  },
  {
   "cell_type": "code",
   "execution_count": 16,
   "metadata": {
    "scrolled": true
   },
   "outputs": [],
   "source": [
    "mask = draw.draw_mask()\n",
    "bbox = draw.get_bbox(mask)\n",
    "plt.imshow(mask)\n",
    "plt.show()\n",
    "mask = mask.astype(int)\n",
    "plt.imsave(str(output_name)+'_mask.jpg', mask)"
   ]
  }
 ],
 "metadata": {
  "kernelspec": {
   "display_name": "Python 3",
   "language": "python",
   "name": "python3"
  },
  "language_info": {
   "codemirror_mode": {
    "name": "ipython",
    "version": 3
   },
   "file_extension": ".py",
   "mimetype": "text/x-python",
   "name": "python",
   "nbconvert_exporter": "python",
   "pygments_lexer": "ipython3",
   "version": "3.5.4"
  }
 },
 "nbformat": 4,
 "nbformat_minor": 2
}
